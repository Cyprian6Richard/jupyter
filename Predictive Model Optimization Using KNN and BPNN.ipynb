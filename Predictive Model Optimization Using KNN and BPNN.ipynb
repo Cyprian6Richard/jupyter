{
 "cells": [
  {
   "cell_type": "code",
   "execution_count": 3,
   "metadata": {},
   "outputs": [],
   "source": [
    "#Predictive Model Optimization Using KNN and BPNN"
   ]
  },
  {
   "cell_type": "code",
   "execution_count": 9,
   "metadata": {},
   "outputs": [
    {
     "name": "stdout",
     "output_type": "stream",
     "text": [
      "Enter the value for output1: 1.6715\n",
      "Enter the value for output2: 83.92\n",
      "Predicted inputs for output1=1.6715 and output2=83.9200:\n",
      "['96.6667', '0.1333', '210.0000', '5.6667']\n"
     ]
    }
   ],
   "source": [
    "#Predicting output using knn model\n",
    "import pandas as pd\n",
    "from sklearn.neighbors import KNeighborsRegressor\n",
    "import joblib\n",
    "\n",
    "# Load dataset\n",
    "file_path = 'dataset.xlsx'\n",
    "df = pd.read_excel(file_path)\n",
    "\n",
    "# Define input and output columns\n",
    "input_columns = ['output1', 'output2']\n",
    "output_columns = ['input1', 'input2', 'input3', 'input4']\n",
    "\n",
    "# Create a KNN regression model\n",
    "k_neighbors = 3  # You can adjust the number of neighbors as needed\n",
    "model = KNeighborsRegressor(n_neighbors=k_neighbors)\n",
    "\n",
    "# Train the model\n",
    "model.fit(df[input_columns], df[output_columns])\n",
    "\n",
    "# Now, you can use this KNN model to predict input values based on user inputs\n",
    "output1_input = float(input(\"Enter the value for output1: \"))\n",
    "output2_input = float(input(\"Enter the value for output2: \"))\n",
    "\n",
    "new_data = pd.DataFrame({'output1': [output1_input], 'output2': [output2_input]})\n",
    "predicted_inputs = model.predict(new_data)\n",
    "\n",
    "# Format predictions to display with four decimal places\n",
    "formatted_predictions = [f'{value:.4f}' for value in predicted_inputs.flatten()]\n",
    "\n",
    "print(f'Predicted inputs for output1={output1_input:.4f} and output2={output2_input:.4f}:')\n",
    "print(formatted_predictions)"
   ]
  },
  {
   "cell_type": "code",
   "execution_count": 12,
   "metadata": {},
   "outputs": [
    {
     "name": "stdout",
     "output_type": "stream",
     "text": [
      "Enter the value for output1: 1.6715\n",
      "Enter the value for output2: 83.92\n",
      "Predicted inputs for output1=1.6715 and output2=83.9200:\n",
      "['54.3333', '0.1395', '249.3041', '3.9178']\n"
     ]
    }
   ],
   "source": [
    "#PREDICTING OUTPUT USING BPNN\n",
    "import pandas as pd\n",
    "from sklearn.neural_network import MLPRegressor\n",
    "import joblib\n",
    "\n",
    "# Load dataset\n",
    "file_path = 'dataset.xlsx'\n",
    "df = pd.read_excel(file_path)\n",
    "\n",
    "# Define input and output columns\n",
    "input_columns = ['output1', 'output2']\n",
    "output_columns = ['input1', 'input2', 'input3', 'input4']\n",
    "\n",
    "# Create a BPNN regression model\n",
    "hidden_layer_sizes = (100, 50)  # You can adjust the number of hidden layers and neurons as needed\n",
    "model = MLPRegressor(hidden_layer_sizes=hidden_layer_sizes, max_iter=1000)\n",
    "\n",
    "# Train the model\n",
    "model.fit(df[input_columns], df[output_columns])\n",
    "\n",
    "# Now, you can use this BPNN model to predict input values based on user inputs\n",
    "output1_input = float(input(\"Enter the value for output1: \"))\n",
    "output2_input = float(input(\"Enter the value for output2: \"))\n",
    "\n",
    "new_data = pd.DataFrame({'output1': [output1_input], 'output2': [output2_input]})\n",
    "predicted_inputs = model.predict(new_data)\n",
    "\n",
    "# Format predictions to display with four decimal places\n",
    "formatted_predictions = [f'{value:.4f}' for value in predicted_inputs.flatten()]\n",
    "\n",
    "print(f'Predicted inputs for output1={output1_input:.4f} and output2={output2_input:.4f}:')\n",
    "print(formatted_predictions)"
   ]
  },
  {
   "cell_type": "code",
   "execution_count": 10,
   "metadata": {},
   "outputs": [
    {
     "name": "stdout",
     "output_type": "stream",
     "text": [
      "Enter the value for input1: 100\n",
      "Enter the value for input2: 0.1\n",
      "Enter the value for input3: 210\n",
      "Enter the value for input4: 3\n",
      "Predicted outputs for input1=100.0000, input2=0.1000, input3=210.0000, input4=3.0000:\n",
      "['1.5598', '84.5200']\n"
     ]
    }
   ],
   "source": [
    "#PREDICTING INPUT USING KNN MODEL\n",
    "import pandas as pd\n",
    "from sklearn.neighbors import KNeighborsRegressor\n",
    "import joblib\n",
    "\n",
    "# Load dataset\n",
    "file_path = 'dataset.xlsx'\n",
    "df = pd.read_excel(file_path)\n",
    "\n",
    "# Define input and output columns\n",
    "input_columns = ['input1', 'input2', 'input3', 'input4']\n",
    "output_columns = ['output1', 'output2']\n",
    "\n",
    "# Create a KNN regression model for predicting output1 and output2\n",
    "k_neighbors_output = 3  # You can adjust the number of neighbors as needed\n",
    "model_output = KNeighborsRegressor(n_neighbors=k_neighbors_output)\n",
    "\n",
    "# Train the model\n",
    "model_output.fit(df[input_columns], df[output_columns])\n",
    "\n",
    "# Now, you can use this KNN model to predict output values based on user inputs\n",
    "input1_input = float(input(\"Enter the value for input1: \"))\n",
    "input2_input = float(input(\"Enter the value for input2: \"))\n",
    "input3_input = float(input(\"Enter the value for input3: \"))\n",
    "input4_input = float(input(\"Enter the value for input4: \"))\n",
    "\n",
    "new_data_input = pd.DataFrame({'input1': [input1_input], 'input2': [input2_input],\n",
    "                                'input3': [input3_input], 'input4': [input4_input]})\n",
    "predicted_outputs = model_output.predict(new_data_input)\n",
    "\n",
    "# Format predictions to display with four decimal places\n",
    "formatted_predictions_output = [f'{value:.4f}' for value in predicted_outputs.flatten()]\n",
    "\n",
    "print(f'Predicted outputs for input1={input1_input:.4f}, input2={input2_input:.4f}, input3={input3_input:.4f}, input4={input4_input:.4f}:')\n",
    "print(formatted_predictions_output)"
   ]
  },
  {
   "cell_type": "code",
   "execution_count": null,
   "metadata": {},
   "outputs": [],
   "source": []
  }
 ],
 "metadata": {
  "kernelspec": {
   "display_name": "Python 3",
   "language": "python",
   "name": "python3"
  },
  "language_info": {
   "codemirror_mode": {
    "name": "ipython",
    "version": 3
   },
   "file_extension": ".py",
   "mimetype": "text/x-python",
   "name": "python",
   "nbconvert_exporter": "python",
   "pygments_lexer": "ipython3",
   "version": "3.8.5"
  }
 },
 "nbformat": 4,
 "nbformat_minor": 4
}
